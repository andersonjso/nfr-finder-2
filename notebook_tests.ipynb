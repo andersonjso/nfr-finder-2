{
 "cells": [
  {
   "cell_type": "code",
   "execution_count": 79,
   "metadata": {},
   "outputs": [],
   "source": [
    "import json\n",
    "import numpy as np"
   ]
  },
  {
   "cell_type": "code",
   "execution_count": 80,
   "metadata": {},
   "outputs": [],
   "source": [
    "system = 'spring-security'"
   ]
  },
  {
   "cell_type": "code",
   "execution_count": 81,
   "metadata": {},
   "outputs": [],
   "source": [
    "pull_file_path = f'data/metrics/{system}_info_devs.json'\n",
    "refactorings_file_path = f'data/metrics/refactorings_{system}.json'\n",
    "metrics = f'data/metrics/metrics_output.json'\n",
    "\n",
    "with open(pull_file_path) as json_input:\n",
    "    dev_info = json.load(json_input)\n",
    "\n",
    "with open(refactorings_file_path) as json_input:\n",
    "    refactorings_info = json.load(json_input)\n",
    "\n",
    "with open(metrics) as json_input:\n",
    "    metrics = json.load(json_input)"
   ]
  },
  {
   "cell_type": "code",
   "execution_count": 82,
   "metadata": {},
   "outputs": [],
   "source": [
    "list_participates = []\n",
    "list_commited = []\n",
    "list_opened = []\n",
    "list_reviewed = []\n",
    "list_commented = []\n",
    "\n",
    "for current_dev in dev_info:\n",
    "    dev = dev_info[current_dev]\n",
    "    \n",
    "    if dev['participates_all_nfrs_high']:\n",
    "        list_participates.append(current_dev)\n",
    "    if dev['commited_all_nfrs_high']:\n",
    "        list_commited.append(current_dev)\n",
    "    if dev['opened_discussion_all_nfrs_high']:\n",
    "        list_opened.append(current_dev)\n",
    "    if dev['commented_all_nfrs_high']:\n",
    "        list_commented.append(current_dev)\n",
    "    if dev['reviewed_all_nfrs_high']:\n",
    "       list_reviewed.append(current_dev)\n",
    "    "
   ]
  },
  {
   "cell_type": "code",
   "execution_count": 83,
   "metadata": {},
   "outputs": [
    {
     "name": "stdout",
     "output_type": "stream",
     "text": [
      "list_participates\n",
      "['jgrandja', 'rwinch', 'jzheaux', 'pivotal-issuemaster']\n"
     ]
    }
   ],
   "source": [
    "print (\"list_participates\")\n",
    "print (list_participates)"
   ]
  },
  {
   "cell_type": "code",
   "execution_count": 84,
   "metadata": {},
   "outputs": [
    {
     "name": "stdout",
     "output_type": "stream",
     "text": [
      "list_commited\n",
      "['', 'jgrandja', 'rwinch', 'jzheaux', 'eleftherias']\n"
     ]
    }
   ],
   "source": [
    "print (\"list_commited\")\n",
    "print (list_commited)"
   ]
  },
  {
   "cell_type": "code",
   "execution_count": 85,
   "metadata": {},
   "outputs": [
    {
     "name": "stdout",
     "output_type": "stream",
     "text": [
      "list_opened\n",
      "['', 'jgrandja', 'rwinch', 'jzheaux', 'eleftherias']\n"
     ]
    }
   ],
   "source": [
    "print (\"list_opened\")\n",
    "print (list_commited)"
   ]
  },
  {
   "cell_type": "code",
   "execution_count": 86,
   "metadata": {},
   "outputs": [
    {
     "name": "stdout",
     "output_type": "stream",
     "text": [
      "list_reviewed\n",
      "['jgrandja', 'rwinch', 'jzheaux', 'eleftherias', 'evgeniycheban', 'ch4mpy', 'Buzzardo']\n"
     ]
    }
   ],
   "source": [
    "print (\"list_reviewed\")\n",
    "print (list_reviewed)"
   ]
  },
  {
   "cell_type": "code",
   "execution_count": 87,
   "metadata": {},
   "outputs": [
    {
     "name": "stdout",
     "output_type": "stream",
     "text": [
      "list_commented\n",
      "['jgrandja', 'rwinch', 'jzheaux', 'pivotal-cla', 'eleftherias', 'pivotal-issuemaster']\n"
     ]
    }
   ],
   "source": [
    "print (\"list_commented\")\n",
    "print (list_commented)"
   ]
  },
  {
   "cell_type": "markdown",
   "metadata": {},
   "source": [
    "jgrandja: Commites, Opens, Reviews, Comments\n",
    "rwinch: Commites, Opens, Reviews, Comments\n",
    "jzheaux: Commites, Opens, Reviews, Comments\n",
    "\n",
    "eleftherias: Commites, Opens, Reviews\n",
    "\n",
    "evgeniycheban: Reviews\n",
    "ch4mpy: Reviews\n",
    "Buzzardo: Reviews\n",
    "\n",
    "pivotal-issuemaster: Comments\n",
    "pivotal-cla: Comments"
   ]
  },
  {
   "cell_type": "code",
   "execution_count": 88,
   "metadata": {},
   "outputs": [
    {
     "name": "stdout",
     "output_type": "stream",
     "text": [
      "rwinch\n",
      "jzheaux\n",
      "jgrandja\n",
      "nor-ek\n",
      "fhanik\n",
      "larsgrefer\n",
      "philwebb\n",
      "izeye\n",
      "wkorando\n",
      "tekul\n"
     ]
    }
   ],
   "source": [
    "for dev_name in refactorings_info:\n",
    "    dev = refactorings_info[dev_name]\n",
    "    if dev['num_refactorings'] > quartiles[\"3rd\"]:\n",
    "        print (dev_name)"
   ]
  },
  {
   "cell_type": "code",
   "execution_count": 89,
   "metadata": {},
   "outputs": [],
   "source": [
    "metrics_spring_security = metrics['spring-security']\n",
    "users_metrics = metrics_spring_security['user_metrics']"
   ]
  },
  {
   "cell_type": "code",
   "execution_count": 90,
   "metadata": {},
   "outputs": [],
   "source": [
    "metrics = ['number_of_merged_prs', 'experience_in_days', 'avg_size_of_commits', 'mean_time_between_merged_prs', \n",
    "           'number_of_pull_requests_opened', 'pulls_opened', 'number_of_commits', 'pulls_closed', 'mean_discussion_duration',\n",
    "          'mean_time_between_comments', 'mean_words', 'total_words', 'number_of_comments', 'lines_revised', 'number_files_revised',\n",
    "          'number_modules_revised', 'number_reviews']\n",
    "\n",
    "dict_metrics = {}\n",
    "\n",
    "for user in users_metrics:\n",
    "    for metric in metrics:\n",
    "        if metric in user:\n",
    "            if metric in dict_metrics:\n",
    "                dict_metrics[metric].append(user[metric])\n",
    "            else:\n",
    "                dict_metrics[metric] = []\n",
    "                dict_metrics[metric].append(user[metric])\n",
    "\n",
    "quartiles_metrics = {}\n",
    "for metric in dict_metrics:\n",
    "    quartiles_metrics[metric] = {}\n",
    "    \n",
    "    quartiles_metrics[metric][\"1st\"] = np.percentile(list(set(dict_metrics[metric])), 25)\n",
    "    quartiles_metrics[metric][\"median\"] = np.percentile(list(set(dict_metrics[metric])), 50)\n",
    "    quartiles_metrics[metric][\"3rd\"] = np.percentile(list(set(dict_metrics[metric])), 75)"
   ]
  },
  {
   "cell_type": "code",
   "execution_count": 91,
   "metadata": {},
   "outputs": [],
   "source": [
    "all_refs = []\n",
    "for dev_name in refactorings_info:\n",
    "    dev = refactorings_info[dev_name]\n",
    "    all_refs.append(dev['num_refactorings'])\n",
    "\n",
    "quartiles_metrics['refactorings'] = {}\n",
    "quartiles_metrics['refactorings'][\"1st\"] = np.percentile(list(set(all_refs)), 25)\n",
    "quartiles_metrics['refactorings'][\"median\"] = np.percentile(list(set(all_refs)), 50)\n",
    "quartiles_metrics['refactorings'][\"3rd\"] = np.percentile(list(set(all_refs)), 75)"
   ]
  },
  {
   "cell_type": "code",
   "execution_count": 92,
   "metadata": {},
   "outputs": [
    {
     "name": "stdout",
     "output_type": "stream",
     "text": [
      "{\n",
      "  \"number_of_merged_prs\": {\n",
      "    \"1st\": 8.5,\n",
      "    \"median\": 31.0,\n",
      "    \"3rd\": 93.0\n",
      "  },\n",
      "  \"experience_in_days\": {\n",
      "    \"1st\": 763.75,\n",
      "    \"median\": 1307.0,\n",
      "    \"3rd\": 2278.0\n",
      "  },\n",
      "  \"avg_size_of_commits\": {\n",
      "    \"1st\": 36.25,\n",
      "    \"median\": 89.42857142857143,\n",
      "    \"3rd\": 195.875\n",
      "  },\n",
      "  \"mean_time_between_merged_prs\": {\n",
      "    \"1st\": 72.29378378378378,\n",
      "    \"median\": 177.546568627451,\n",
      "    \"3rd\": 432.7607953461758\n",
      "  },\n",
      "  \"number_of_pull_requests_opened\": {\n",
      "    \"1st\": 7.0,\n",
      "    \"median\": 18.0,\n",
      "    \"3rd\": 38.0\n",
      "  },\n",
      "  \"pulls_opened\": {\n",
      "    \"1st\": 7.0,\n",
      "    \"median\": 18.0,\n",
      "    \"3rd\": 38.0\n",
      "  },\n",
      "  \"number_of_commits\": {\n",
      "    \"1st\": 8.75,\n",
      "    \"median\": 20.5,\n",
      "    \"3rd\": 68.0\n",
      "  },\n",
      "  \"pulls_closed\": {\n",
      "    \"1st\": 8.5,\n",
      "    \"median\": 31.0,\n",
      "    \"3rd\": 93.0\n",
      "  },\n",
      "  \"mean_discussion_duration\": {\n",
      "    \"1st\": 6.0,\n",
      "    \"median\": 14.2,\n",
      "    \"3rd\": 36.0\n",
      "  },\n",
      "  \"mean_time_between_comments\": {\n",
      "    \"1st\": 27.333333333333332,\n",
      "    \"median\": 58.0,\n",
      "    \"3rd\": 119.5\n",
      "  },\n",
      "  \"mean_words\": {\n",
      "    \"1st\": 58.25,\n",
      "    \"median\": 133.5,\n",
      "    \"3rd\": 309.0\n",
      "  },\n",
      "  \"total_words\": {\n",
      "    \"1st\": 5.583333333333334,\n",
      "    \"median\": 15.666666666666666,\n",
      "    \"3rd\": 78.25\n",
      "  },\n",
      "  \"number_of_comments\": {\n",
      "    \"1st\": 18.5,\n",
      "    \"median\": 35.0,\n",
      "    \"3rd\": 73.0\n",
      "  },\n",
      "  \"lines_revised\": {\n",
      "    \"1st\": 37.0,\n",
      "    \"median\": 113.0,\n",
      "    \"3rd\": 393.0\n",
      "  },\n",
      "  \"number_files_revised\": {\n",
      "    \"1st\": 5.25,\n",
      "    \"median\": 10.5,\n",
      "    \"3rd\": 39.75\n",
      "  },\n",
      "  \"number_modules_revised\": {\n",
      "    \"1st\": 4.75,\n",
      "    \"median\": 12.0,\n",
      "    \"3rd\": 34.5\n",
      "  },\n",
      "  \"number_reviews\": {\n",
      "    \"1st\": 9.0,\n",
      "    \"median\": 18.0,\n",
      "    \"3rd\": 53.0\n",
      "  },\n",
      "  \"refactorings\": {\n",
      "    \"1st\": 9.5,\n",
      "    \"median\": 24.0,\n",
      "    \"3rd\": 194.5\n",
      "  }\n",
      "}\n"
     ]
    }
   ],
   "source": [
    "json_formatted_str = json.dumps(quartiles_metrics, indent=2)\n",
    "\n",
    "print(json_formatted_str)"
   ]
  },
  {
   "cell_type": "code",
   "execution_count": 94,
   "metadata": {},
   "outputs": [],
   "source": [
    "def get_group_quartile(dict_quartiles, metric_name, value_metric):\n",
    "    if value_metric >= quartiles_metrics[metric_name]['3rd']:\n",
    "        return \"HIGH\"\n",
    "    elif value_metric <= quartiles_metrics[metric_name]['1st']:\n",
    "        return \"LOW\"\n",
    "    else:\n",
    "        return \"MEDIUM\""
   ]
  },
  {
   "cell_type": "code",
   "execution_count": 98,
   "metadata": {},
   "outputs": [],
   "source": [
    "user_quartiles_metrics = {}\n",
    "for user in users_metrics:\n",
    "    username = user['username']\n",
    "    user_quartiles_metrics[username] = {}\n",
    "    for metric in metrics:\n",
    "        if metric in user:\n",
    "            user_quartiles_metrics[username][metric] = get_group_quartile(dict_quartiles=quartiles_metrics, \n",
    "                                                                      metric_name=metric, \n",
    "                                                                      value_metric=user[metric])\n",
    "        else:\n",
    "            user_quartiles_metrics[username][metric] = \"NONE\"\n",
    "\n",
    "for user in refactorings_info:\n",
    "    if user in user_quartiles_metrics:\n",
    "        user_quartiles_metrics[user]['refactorings'] = get_group_quartile(dict_quartiles=quartiles_metrics, \n",
    "                                                                          metric_name='refactorings', \n",
    "                                                                          value_metric=refactorings_info[user]['num_refactorings'])\n",
    "    else:\n",
    "        user_quartiles_metrics[user] = {}\n",
    "        user_quartiles_metrics[user]['refactorings'] = get_group_quartile(dict_quartiles=quartiles_metrics, \n",
    "                                                                          metric_name='refactorings', \n",
    "                                                                          value_metric=refactorings_info[user]['num_refactorings'])"
   ]
  },
  {
   "cell_type": "code",
   "execution_count": 100,
   "metadata": {},
   "outputs": [],
   "source": [
    "json_formatted_str = json.dumps(user_quartiles_metrics, indent=2)\n",
    "\n",
    "with open(f\"data/metrics/groups_users_metrics_{system}.json\", \"w\") as write_file:\n",
    "    json.dump(user_quartiles_metrics, write_file, indent=4)"
   ]
  },
  {
   "cell_type": "code",
   "execution_count": null,
   "metadata": {},
   "outputs": [],
   "source": []
  }
 ],
 "metadata": {
  "kernelspec": {
   "display_name": "Python 3 (ipykernel)",
   "language": "python",
   "name": "python3"
  },
  "language_info": {
   "codemirror_mode": {
    "name": "ipython",
    "version": 3
   },
   "file_extension": ".py",
   "mimetype": "text/x-python",
   "name": "python",
   "nbconvert_exporter": "python",
   "pygments_lexer": "ipython3",
   "version": "3.8.7"
  },
  "pycharm": {
   "stem_cell": {
    "cell_type": "raw",
    "metadata": {
     "collapsed": false
    },
    "source": []
   }
  }
 },
 "nbformat": 4,
 "nbformat_minor": 1
}
